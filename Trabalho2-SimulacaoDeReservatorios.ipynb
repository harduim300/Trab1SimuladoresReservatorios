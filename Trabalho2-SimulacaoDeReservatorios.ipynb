{
 "cells": [
  {
   "cell_type": "markdown",
   "id": "3f33300d-cccc-4c94-8c11-21be0069a9a4",
   "metadata": {},
   "source": [
    "# Simulação de Reservatórios de Petróleo – 2021/2"
   ]
  },
  {
   "cell_type": "markdown",
   "id": "1437fa19-c720-4e1b-813f-fd0f254c2520",
   "metadata": {},
   "source": [
    "## Trabalho 2"
   ]
  },
  {
   "cell_type": "markdown",
   "id": "9584fe05-d672-4e53-9325-05ad6e8f5e2c",
   "metadata": {},
   "source": [
    "**Grupo:** Luan Rodrigues e Matheus Harduim.\n",
    "\n",
    "**Professor:** Grazione de Souza.\n",
    "\n",
    "**Instituição:** UERJ – IPRJ – DMC"
   ]
  },
  {
   "cell_type": "markdown",
   "id": "8c31965c-69eb-4be0-a621-e7774469b9c6",
   "metadata": {},
   "source": [
    "### Desenvolvimento dos códigos e comentários."
   ]
  },
  {
   "cell_type": "markdown",
   "id": "129afaf5-1cb7-4d14-b834-e776cf2ce03d",
   "metadata": {},
   "source": [
    "Importando as bibliotecas do python que serão utilizadas"
   ]
  },
  {
   "cell_type": "code",
   "execution_count": 1,
   "id": "6eaa1092-7059-49c8-bd65-d6368344e6c0",
   "metadata": {},
   "outputs": [],
   "source": [
    "import numpy.matlib\n",
    "import numpy as np\n",
    "import math\n",
    "import pprint\n",
    "import datetime\n",
    "import pandas as pd\n",
    "import matplotlib.pyplot as plt\n",
    "import seaborn as sns"
   ]
  },
  {
   "cell_type": "markdown",
   "id": "eff881a1-7ab6-4cf9-8d71-e81cd7e892f7",
   "metadata": {},
   "source": [
    "## Dados do problema\n",
    "- $k = 10,0 × {10}^{−15} {m}^{2}$\n",
    "- $φ = 0,25$\n",
    "- ${S}_{w inicial} = 0,2$\n",
    "- ${L}_{x} = 5000m$\n",
    "- ${L}_{y} = 40m$\n",
    "- ${L}_{z} = 10m$\n",
    "- ${µ}_{w} = 1,0 × {10}^{−3}Pa·s$\n",
    "- ${µ}_{o} = 0,8 × {10}^{−3}Pa·s$"
   ]
  },
  {
   "cell_type": "code",
   "execution_count": 4,
   "id": "3c0cfa3a-05c3-4e81-8608-16fed8c077c9",
   "metadata": {},
   "outputs": [
    {
     "ename": "TypeError",
     "evalue": "can't multiply sequence by non-int of type 'tuple'",
     "output_type": "error",
     "traceback": [
      "\u001b[0;31m---------------------------------------------------------------------------\u001b[0m",
      "\u001b[0;31mTypeError\u001b[0m                                 Traceback (most recent call last)",
      "Input \u001b[0;32mIn [4]\u001b[0m, in \u001b[0;36m<cell line: 9>\u001b[0;34m()\u001b[0m\n\u001b[1;32m      7\u001b[0m miw \u001b[38;5;241m=\u001b[39m \u001b[38;5;241m1\u001b[39m,\u001b[38;5;241m0\u001b[39m\u001b[38;5;241m*\u001b[39m(\u001b[38;5;241m10\u001b[39m\u001b[38;5;241m*\u001b[39m\u001b[38;5;241m*\u001b[39m\u001b[38;5;241m-\u001b[39m\u001b[38;5;241m3\u001b[39m)\n\u001b[1;32m      8\u001b[0m mio \u001b[38;5;241m=\u001b[39m \u001b[38;5;241m0\u001b[39m,\u001b[38;5;241m8\u001b[39m\u001b[38;5;241m*\u001b[39m(\u001b[38;5;241m10\u001b[39m\u001b[38;5;241m*\u001b[39m\u001b[38;5;241m*\u001b[39m\u001b[38;5;241m-\u001b[39m\u001b[38;5;241m3\u001b[39m)\n\u001b[0;32m----> 9\u001b[0m qt \u001b[38;5;241m=\u001b[39m (\u001b[43mmiw\u001b[49m\u001b[38;5;241;43m*\u001b[39;49m\u001b[43mmio\u001b[49m)\u001b[38;5;241m*\u001b[39m(Ly\u001b[38;5;241m*\u001b[39mLz)\n",
      "\u001b[0;31mTypeError\u001b[0m: can't multiply sequence by non-int of type 'tuple'"
     ]
    }
   ],
   "source": [
    "k = 10,0* (10**-15)\n",
    "phi = 0,25\n",
    "Swinicial = 0,2\n",
    "Lx = 5000\n",
    "Ly = 40\n",
    "Lz = 10\n",
    "miw = 1,0*(10**-3)\n",
    "mio = 0,8*(10**-3)\n",
    "qt = (miw*mio)*(Ly*Lz)"
   ]
  },
  {
   "cell_type": "code",
   "execution_count": null,
   "id": "0330fb5e-a64c-4d8e-9164-e82bb868e419",
   "metadata": {},
   "outputs": [],
   "source": []
  }
 ],
 "metadata": {
  "kernelspec": {
   "display_name": "Python 3 (ipykernel)",
   "language": "python",
   "name": "python3"
  },
  "language_info": {
   "codemirror_mode": {
    "name": "ipython",
    "version": 3
   },
   "file_extension": ".py",
   "mimetype": "text/x-python",
   "name": "python",
   "nbconvert_exporter": "python",
   "pygments_lexer": "ipython3",
   "version": "3.8.10"
  }
 },
 "nbformat": 4,
 "nbformat_minor": 5
}
