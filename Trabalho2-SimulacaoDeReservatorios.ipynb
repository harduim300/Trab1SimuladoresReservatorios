{
 "cells": [
  {
   "cell_type": "markdown",
   "id": "3f33300d-cccc-4c94-8c11-21be0069a9a4",
   "metadata": {},
   "source": [
    "# Simulação de Reservatórios de Petróleo – 2021/2"
   ]
  },
  {
   "cell_type": "markdown",
   "id": "1437fa19-c720-4e1b-813f-fd0f254c2520",
   "metadata": {},
   "source": [
    "## Trabalho 2"
   ]
  },
  {
   "cell_type": "markdown",
   "id": "9584fe05-d672-4e53-9325-05ad6e8f5e2c",
   "metadata": {},
   "source": [
    "**Grupo:** Luan Rodrigues e Matheus Harduim.\n",
    "\n",
    "**Professor:** Grazione de Souza.\n",
    "\n",
    "**Instituição:** UERJ – IPRJ – DMC"
   ]
  },
  {
   "cell_type": "markdown",
   "id": "8c31965c-69eb-4be0-a621-e7774469b9c6",
   "metadata": {},
   "source": [
    "### Desenvolvimento dos códigos e comentários."
   ]
  },
  {
   "cell_type": "markdown",
   "id": "129afaf5-1cb7-4d14-b834-e776cf2ce03d",
   "metadata": {},
   "source": [
    "Importando as bibliotecas do python que serão utilizadas"
   ]
  },
  {
   "cell_type": "code",
   "execution_count": null,
   "id": "6eaa1092-7059-49c8-bd65-d6368344e6c0",
   "metadata": {},
   "outputs": [],
   "source": []
  }
 ],
 "metadata": {
  "kernelspec": {
   "display_name": "Python 3 (ipykernel)",
   "language": "python",
   "name": "python3"
  },
  "language_info": {
   "codemirror_mode": {
    "name": "ipython",
    "version": 3
   },
   "file_extension": ".py",
   "mimetype": "text/x-python",
   "name": "python",
   "nbconvert_exporter": "python",
   "pygments_lexer": "ipython3",
   "version": "3.8.10"
  }
 },
 "nbformat": 4,
 "nbformat_minor": 5
}
