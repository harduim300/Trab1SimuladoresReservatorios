{
 "cells": [
  {
   "cell_type": "markdown",
   "id": "3f33300d-cccc-4c94-8c11-21be0069a9a4",
   "metadata": {},
   "source": [
    "# Simulação de Reservatórios de Petróleo – 2021/2"
   ]
  },
  {
   "cell_type": "markdown",
   "id": "1437fa19-c720-4e1b-813f-fd0f254c2520",
   "metadata": {},
   "source": [
    "## Trabalho 2"
   ]
  },
  {
   "cell_type": "markdown",
   "id": "9584fe05-d672-4e53-9325-05ad6e8f5e2c",
   "metadata": {},
   "source": [
    "**Grupo:** Luan Rodrigues e Matheus Harduim.\n",
    "\n",
    "**Professor:** Grazione de Souza.\n",
    "\n",
    "**Instituição:** UERJ – IPRJ – DMC"
   ]
  },
  {
   "cell_type": "markdown",
   "id": "8c31965c-69eb-4be0-a621-e7774469b9c6",
   "metadata": {},
   "source": [
    "### Desenvolvimento dos códigos e comentários."
   ]
  },
  {
   "cell_type": "markdown",
   "id": "129afaf5-1cb7-4d14-b834-e776cf2ce03d",
   "metadata": {},
   "source": [
    "Importando as bibliotecas do python que serão utilizadas"
   ]
  },
  {
   "cell_type": "code",
   "execution_count": 1,
   "id": "6eaa1092-7059-49c8-bd65-d6368344e6c0",
   "metadata": {},
   "outputs": [],
   "source": [
    "import numpy.matlib\n",
    "import numpy as np\n",
    "import math\n",
    "import pprint\n",
    "import datetime\n",
    "import pandas as pd\n",
    "import matplotlib.pyplot as plt\n",
    "import seaborn as sns"
   ]
  },
  {
   "cell_type": "markdown",
   "id": "eff881a1-7ab6-4cf9-8d71-e81cd7e892f7",
   "metadata": {},
   "source": [
    "## Dados do problema\n",
    "- $k = 10,0 × {10}^{−15} {m}^{2}$\n",
    "- $φ = 0,25$\n",
    "- ${S}_{w inicial} = 0,2$\n",
    "- ${L}_{x} = 5000m$\n",
    "- ${L}_{y} = 40m$\n",
    "- ${L}_{z} = 10m$\n",
    "- ${µ}_{w} = 1,0 × {10}^{−3}Pa·s$\n",
    "- ${µ}_{o} = 0,8 × {10}^{−3}Pa·s$"
   ]
  },
  {
   "cell_type": "code",
   "execution_count": 2,
   "id": "3c0cfa3a-05c3-4e81-8608-16fed8c077c9",
   "metadata": {},
   "outputs": [],
   "source": [
    "k = 10.0* (10**-15)\n",
    "phi = 0,25\n",
    "Swinicial = 0,2\n",
    "Lx = 5000\n",
    "Ly = 40\n",
    "Lz = 10\n",
    "miw = 1.0*(10**-3)\n",
    "mio = 0.8*(10**-3)\n",
    "qt = 1.0*(10**-3)"
   ]
  },
  {
   "cell_type": "code",
   "execution_count": null,
   "id": "0330fb5e-a64c-4d8e-9164-e82bb868e419",
   "metadata": {},
   "outputs": [],
   "source": []
  }
 ],
 "metadata": {
  "kernelspec": {
   "display_name": "Python 3 (ipykernel)",
   "language": "python",
   "name": "python3"
  },
  "language_info": {
   "codemirror_mode": {
    "name": "ipython",
    "version": 3
   },
   "file_extension": ".py",
   "mimetype": "text/x-python",
   "name": "python",
   "nbconvert_exporter": "python",
   "pygments_lexer": "ipython3",
   "version": "3.8.10"
  }
 },
 "nbformat": 4,
 "nbformat_minor": 5
}
